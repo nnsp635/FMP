{
 "cells": [
  {
   "cell_type": "code",
   "execution_count": 12,
   "metadata": {},
   "outputs": [],
   "source": [
    "import math"
   ]
  },
  {
   "cell_type": "code",
   "execution_count": 21,
   "metadata": {},
   "outputs": [],
   "source": [
    "def pseudo_random(alpha,u,m,n):#alpha is pooling factor,u is a constant between 0 and 1,mxn image size\n",
    "    a = []\n",
    "    i = 0\n",
    "    limit = False\n",
    "#     prev_num = 0\n",
    "    while not limit:\n",
    "        num = math.ceil(alpha*(i+u))\n",
    "        a += [num]\n",
    "#         prev_num = num\n",
    "#         print(summ)\n",
    "        if num == m-1 or num == m:\n",
    "            limit = True\n",
    "        i += 1\n",
    "    b = []\n",
    "    i = 0\n",
    "    limit = False\n",
    "#     prev_num = 0\n",
    "    while not limit:\n",
    "        num = math.ceil(alpha*(i+u))\n",
    "        b += [num]\n",
    "#         prev_num = num\n",
    "#         print(summ)\n",
    "        if num == n-1 or num == n:\n",
    "            limit = True\n",
    "        i += 1\n",
    "    return a,b"
   ]
  },
  {
   "cell_type": "code",
   "execution_count": 23,
   "metadata": {},
   "outputs": [
    {
     "name": "stdout",
     "output_type": "stream",
     "text": [
      "[2, 3, 5, 7, 9, 10, 12, 14, 16, 17, 19, 21, 22, 24, 26, 28, 29, 31, 33, 35, 36, 38, 40, 42, 43, 45, 47, 48, 50]\n",
      "asdfghjkl;\n",
      "[2, 3, 5, 7, 9, 10, 12, 14, 16, 17, 19, 21, 22, 24, 26, 28, 29, 31, 33, 35, 36, 38, 40, 42, 43, 45, 47, 48, 50, 52, 54, 55, 57, 59]\n",
      "1.7241379310344827\n",
      "1.7647058823529411\n"
     ]
    }
   ],
   "source": [
    "a,b = pseudo_random(1.732,0.691,50,60)\n",
    "print(a)\n",
    "print(\"asdfghjkl;\")\n",
    "print(b)\n",
    "print(50/len(a))\n",
    "print(60/len(b))"
   ]
  },
  {
   "cell_type": "code",
   "execution_count": null,
   "metadata": {},
   "outputs": [],
   "source": []
  }
 ],
 "metadata": {
  "kernelspec": {
   "display_name": "Python 3",
   "language": "python",
   "name": "python3"
  },
  "language_info": {
   "codemirror_mode": {
    "name": "ipython",
    "version": 3
   },
   "file_extension": ".py",
   "mimetype": "text/x-python",
   "name": "python",
   "nbconvert_exporter": "python",
   "pygments_lexer": "ipython3",
   "version": "3.7.4"
  }
 },
 "nbformat": 4,
 "nbformat_minor": 2
}
