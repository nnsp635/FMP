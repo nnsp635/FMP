{
 "cells": [
  {
   "cell_type": "code",
   "execution_count": null,
   "metadata": {},
   "outputs": [],
   "source": [
    "import math\n",
    "import torch\n",
    "from torch import nn\n",
    "import torch.nn.functional as F\n",
    "from torchvision import datasets, transforms\n",
    "import numpy as np\n",
    "# import helper\n",
    "import matplotlib.pyplot as plt\n",
    "from torch.utils.data import DataLoader\n",
    "from torch import optim"
   ]
  },
  {
   "cell_type": "code",
   "execution_count": null,
   "metadata": {},
   "outputs": [],
   "source": [
    "def pseudo_random(alpha,u,m,n):#alpha is pooling factor,u is a constant between 0 and 1,mxn image size\n",
    "    a = []\n",
    "    i = 0\n",
    "    limit = False\n",
    "#     prev_num = 0\n",
    "    while not limit:\n",
    "        num = math.ceil(alpha*(i+u))\n",
    "        a += [num]\n",
    "#         prev_num = num\n",
    "#         print(summ)\n",
    "        if num == m-1 or num == m:\n",
    "            limit = True\n",
    "        i += 1\n",
    "    b = []\n",
    "    i = 0\n",
    "    limit = False\n",
    "#     prev_num = 0\n",
    "    while not limit:\n",
    "        num = math.ceil(alpha*(i+u))\n",
    "        b += [num]\n",
    "#         prev_num = num\n",
    "#         print(summ)\n",
    "        if num == n-1 or num == n:\n",
    "            limit = True\n",
    "        i += 1\n",
    "    return a,b"
   ]
  },
  {
   "cell_type": "code",
   "execution_count": null,
   "metadata": {},
   "outputs": [],
   "source": [
    "a,b = pseudo_random(1.732,0.691,50,60)\n",
    "# print(a)\n",
    "# print(\"asdfghjkl;\")\n",
    "# print(b)\n",
    "# print(50/len(a))\n",
    "# print(60/len(b))"
   ]
  },
  {
   "cell_type": "code",
   "execution_count": null,
   "metadata": {},
   "outputs": [],
   "source": [
    "image_data = datasets.ImageFolder(\"~/Desktop/tiny-imagenet-200/train\",transform = transforms.ToTensor())\n",
    "# print(image_data.classes)\n",
    "trainloader = DataLoader(image_data,shuffle=True)\n",
    "# i=0\n",
    "# for x,y in loader:\n",
    "#     print(x)\n",
    "#     print(y)\n",
    "#     i += 1\n",
    "#     if i == 10:\n",
    "#         break\n",
    "# image_data.__getitem__(99498)"
   ]
  },
  {
   "cell_type": "code",
   "execution_count": null,
   "metadata": {},
   "outputs": [],
   "source": [
    "model = nn.Sequential(nn.Conv2d(3,30,2),\n",
    "                      nn.FractionalMaxPool2d((1,2),output_ratio=(1/math.sqrt(2),1/math.sqrt(2))),\n",
    "                      nn.Conv2d(30,300,2),\n",
    "                      #nn.FractionalMaxPool2d((1,2),output_ratio=(1/math.sqrt(2),1/math.sqrt(2))),\n",
    "                      #nn.Conv2d(300,3000,2),\n",
    "                      nn.Flatten(),\n",
    "                      nn.Linear(43*43*300,200),\n",
    "                      #nn.ReLU(),\n",
    "                      #nn.Linear(29,10)\n",
    "                      #nn.Linear(29*29*3000,10),\n",
    "                      nn.Softmax(dim=1)\n",
    "                     )\n",
    "\n",
    "#m1= nn.Conv2d(3,30,2)\n",
    "m1=nn.FractionalMaxPool2d((1,2),output_ratio=(1/math.sqrt(2),1/math.sqrt(2)))"
   ]
  },
  {
   "cell_type": "code",
   "execution_count": null,
   "metadata": {},
   "outputs": [],
   "source": [
    "#criterion = nn.CrossEntropyLoss()\n",
    "criterion = nn.NLLLoss()\n",
    "# Get our data\n",
    "images, labels = next(iter(trainloader))\n",
    "#print(images.shape)\n",
    "# Flatten images\n",
    "#images = images.view(images.shape[0], -1)\n",
    "#print(images.shape)\n",
    "# Forward pass, get our logits\n",
    "optimizer = optim.SGD(model.parameters(), lr=0.01)\n",
    "\n",
    "optimizer.zero_grad()\n",
    "\n",
    "\n",
    "logits = model(images)\n",
    "#l1 = m1(images)\n",
    "#l2=m1(l1)\n",
    "\n",
    "#print(l2.shape, \" \", type(l2))\n",
    "#print(l1)\n",
    "# Calculate the loss with the logits and the labels\n",
    "loss = criterion(logits, labels)\n",
    "loss.backward()\n",
    "print('Gradient -', model[0].weight.grad)\n",
    "print(\"#############################\")\n",
    "print(loss)"
   ]
  },
  {
   "cell_type": "code",
   "execution_count": null,
   "metadata": {},
   "outputs": [],
   "source": [
    "criterion = nn.NLLLoss()\n",
    "optimizer = optim.SGD(model.parameters(), lr=0.003)\n",
    "\n",
    "epochs = 5\n",
    "for e in range(epochs):\n",
    "    running_loss = 0\n",
    "    for images, labels in trainloader:\n",
    "        # Flatten MNIST images into a 784 long vector\n",
    "        \n",
    "    \n",
    "        # TODO: Training pass\n",
    "        optimizer.zero_grad()\n",
    "        \n",
    "        output = model(images)\n",
    "        loss = criterion(output, labels)\n",
    "        loss.backward()\n",
    "        optimizer.step()\n",
    "        \n",
    "        running_loss += loss.item()\n",
    "    print(\"Training loss:\", {running_loss/len(trainloader)})\n",
    "    #else:\n",
    "    #    print(\"Training loss:\", {running_loss/len(trainloader)})\n",
    "\n"
   ]
  },
  {
   "cell_type": "code",
   "execution_count": null,
   "metadata": {},
   "outputs": [],
   "source": [
    "criterion = nn.NLLLoss()\n",
    "optimizer = optim.SGD(model.parameters(), lr=0.003)\n",
    "\n",
    "epochs = 5\n",
    "for e in range(epochs):\n",
    "    print(\"e\")\n",
    "    running_loss = 0\n",
    "    print(\"1\")\n",
    "    for images, labels in trainloader:\n",
    "        # Flatten MNIST images into a 784 long vector\n",
    "        \n",
    "    \n",
    "        # TODO: Training pass\n",
    "        optimizer.zero_grad()\n",
    "        print(\"k\")\n",
    "        output = model(images)\n",
    "        print(\"loudeske\")\n",
    "        loss = criterion(output, labels)\n",
    "        loss.backward()\n",
    "        print(\"thopenn\")\n",
    "        optimizer.step()\n",
    "        \n",
    "        running_loss += loss.item()\n",
    "    print(\"2\")\n",
    "    print(\"Training loss:\", {running_loss/len(trainloader)})"
   ]
  },
  {
   "cell_type": "code",
   "execution_count": null,
   "metadata": {},
   "outputs": [],
   "source": []
  },
  {
   "cell_type": "code",
   "execution_count": null,
   "metadata": {},
   "outputs": [],
   "source": []
  },
  {
   "cell_type": "code",
   "execution_count": null,
   "metadata": {},
   "outputs": [],
   "source": []
  }
 ],
 "metadata": {
  "kernelspec": {
   "display_name": "Python 3",
   "language": "python",
   "name": "python3"
  },
  "language_info": {
   "codemirror_mode": {
    "name": "ipython",
    "version": 3
   },
   "file_extension": ".py",
   "mimetype": "text/x-python",
   "name": "python",
   "nbconvert_exporter": "python",
   "pygments_lexer": "ipython3",
   "version": "3.7.4"
  }
 },
 "nbformat": 4,
 "nbformat_minor": 2
}
